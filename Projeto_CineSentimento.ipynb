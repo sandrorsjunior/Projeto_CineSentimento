{
  "nbformat": 4,
  "nbformat_minor": 0,
  "metadata": {
    "colab": {
      "provenance": []
    },
    "kernelspec": {
      "name": "python3",
      "display_name": "Python 3"
    },
    "language_info": {
      "name": "python"
    }
  },
  "cells": [
    {
      "cell_type": "code",
      "source": [
        "import pandas as pd"
      ],
      "metadata": {
        "id": "mpEONxBcL51G"
      },
      "execution_count": 1,
      "outputs": []
    },
    {
      "cell_type": "code",
      "source": [
        "data = {\n",
        "    \"critica\": [\n",
        "        \"Um filme absolutamente deslumbrante, adorei cada segundo.\",\n",
        "        \"A atuação foi fraca e o enredo não fazia sentido nenhum.\",\n",
        "        \"Tecnicamente brilhante, mas a história podia ser mais cativante.\",\n",
        "        \"Que deceção! Dinheiro e tempo desperdiçados.\"\n",
        "    ],\n",
        "    \"Sentimento\": [\n",
        "        \"Positivo\",\n",
        "        \"Negativo\",\n",
        "        \"Positivo\",\n",
        "        \"Negativo\"\n",
        "    ]\n",
        "}"
      ],
      "metadata": {
        "id": "8ety5d0fL5yG"
      },
      "execution_count": 2,
      "outputs": []
    },
    {
      "cell_type": "code",
      "source": [
        "df = pd.DataFrame(data)\n",
        "contagem_sentimentos = df[\"Sentimento\"].value_counts()"
      ],
      "metadata": {
        "id": "9mkzRk8OL5ud"
      },
      "execution_count": 6,
      "outputs": []
    },
    {
      "cell_type": "code",
      "source": [
        "print(df.head(2))"
      ],
      "metadata": {
        "colab": {
          "base_uri": "https://localhost:8080/"
        },
        "id": "aXW3KAOTL94s",
        "outputId": "dafd43ee-531c-4937-f0bc-24606a34d17a"
      },
      "execution_count": 7,
      "outputs": [
        {
          "output_type": "stream",
          "name": "stdout",
          "text": [
            "                                             critica Sentimento\n",
            "0  Um filme absolutamente deslumbrante, adorei ca...   Positivo\n",
            "1  A atuação foi fraca e o enredo não fazia senti...   Negativo\n"
          ]
        }
      ]
    },
    {
      "cell_type": "code",
      "source": [
        "print(contagem_sentimentos)"
      ],
      "metadata": {
        "colab": {
          "base_uri": "https://localhost:8080/"
        },
        "id": "-kSpyO0zMKXX",
        "outputId": "a163396f-dbed-4f7f-9e7d-1d7695676380"
      },
      "execution_count": 8,
      "outputs": [
        {
          "output_type": "stream",
          "name": "stdout",
          "text": [
            "Sentimento\n",
            "Positivo    2\n",
            "Negativo    2\n",
            "Name: count, dtype: int64\n"
          ]
        }
      ]
    }
  ]
}